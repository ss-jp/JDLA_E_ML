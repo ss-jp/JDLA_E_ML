{
 "cells": [
  {
   "cell_type": "code",
   "execution_count": 1,
   "metadata": {},
   "outputs": [],
   "source": [
    "import numpy as np\n",
    "import matplotlib.pyplot as plt\n",
    "import seaborn as sns\n",
    "\n",
    "%matplotlib inline"
   ]
  },
  {
   "cell_type": "code",
   "execution_count": 2,
   "metadata": {},
   "outputs": [],
   "source": [
    "#seaborn設定\n",
    "sns.set()\n",
    "#背景変更\n",
    "sns.set_style(\"darkgrid\", {'grid.linestyle': '--'})\n",
    "#大きさ(スケール変更)\n",
    "sns.set_context(\"paper\")"
   ]
  },
  {
   "cell_type": "code",
   "execution_count": 3,
   "metadata": {},
   "outputs": [],
   "source": [
    "n=100\n",
    "\n",
    "def true_func(x):\n",
    "    z = 1-48*x+218*x**2-315*x**3+145*x**4\n",
    "    return z \n",
    "\n",
    "def linear_func(x):\n",
    "    z = x\n",
    "    return z "
   ]
  },
  {
   "cell_type": "code",
   "execution_count": 4,
   "metadata": {},
   "outputs": [
    {
     "name": "stderr",
     "output_type": "stream",
     "text": [
      "No handles with labels found to put in legend.\n"
     ]
    },
    {
     "data": {
      "text/plain": [
       "<matplotlib.legend.Legend at 0x1a19158c18>"
      ]
     },
     "execution_count": 4,
     "metadata": {},
     "output_type": "execute_result"
    },
    {
     "data": {
      "image/png": "[encoded data removed]",
      "text/plain": [
       "<matplotlib.figure.Figure at 0x1a13738710>"
      ]
     },
     "metadata": {},
     "output_type": "display_data"
    }
   ],
   "source": [
    "# 真の関数からノイズを伴うデータを生成\n",
    "\n",
    "# 真の関数からデータ生成\n",
    "data = np.random.rand(n).astype(np.float32)\n",
    "data = np.sort(data)\n",
    "target = true_func(data)\n",
    "\n",
    "# 　ノイズを加える\n",
    "noise = 0.5 * np.random.randn(n) \n",
    "target = target  + noise\n",
    "\n",
    "# ノイズ付きデータを描画\n",
    "\n",
    "plt.scatter(data, target)\n",
    "\n",
    "plt.title('NonLinear Regression')\n",
    "plt.legend(loc=2)"
   ]
  },
  {
   "cell_type": "code",
   "execution_count": null,
   "metadata": {},
   "outputs": [],
   "source": [
    "from sklearn.linear_model import LinearRegression\n",
    "\n",
    "clf = LinearRegression()\n",
    "data = data.reshape(-1,1)\n",
    "target = target.reshape(-1,1)\n",
    "clf.fit(data, target)\n",
    "\n",
    "p = clf.predict(data)\n",
    "\n",
    "plt.scatter(data, target, label='data')\n",
    "plt.plot(data, p, color='darkorange', marker='', linestyle='-', linewidth=1, markersize=6, label='linear regression')\n",
    "plt.legend()\n",
    "print(clf.score(data, target))"
   ]
  },
  {
   "cell_type": "code",
   "execution_count": null,
   "metadata": {},
   "outputs": [],
   "source": [
    "from sklearn.kernel_ridge import KernelRidge\n",
    "\n",
    "clf = KernelRidge(alpha=0.000002, kernel='rbf')\n",
    "clf.fit(data, target)\n",
    "\n",
    "p = clf.predict(data)\n",
    "\n",
    "plt.scatter(data, target, color='blue', label='data')\n",
    "\n",
    "plt.plot(data, p, color='orange', linestyle='-', linewidth=3, markersize=6, label='kernel ridge')\n",
    "plt.legend()\n",
    "#plt.plot(data, p, color='orange', marker='o', linestyle='-', linewidth=1, markersize=6)"
   ]
  },
  {
   "cell_type": "code",
   "execution_count": null,
   "metadata": {},
   "outputs": [],
   "source": [
    "#Ridge\n",
    "\n",
    "from sklearn.metrics.pairwise import rbf_kernel\n",
    "from sklearn.linear_model import Ridge\n",
    "\n",
    "kx = rbf_kernel(X=data, Y=data, gamma=50)\n",
    "#KX = rbf_kernel(X, x)\n",
    "\n",
    "#clf = LinearRegression()\n",
    "clf = Ridge(alpha=0.1)\n",
    "clf.fit(kx, target)\n",
    "\n",
    "p = clf.predict(kx)\n",
    "\n",
    "plt.scatter(data, target,label='data')\n",
    "for i in range(len(kx)):\n",
    "    plt.plot(data, kx[i], color='black', linestyle='-', linewidth=1, markersize=3, label='rbf', alpha=0.2)\n",
    "\n",
    "#plt.plot(data, p, color='green', marker='o', linestyle='-', linewidth=0.1, markersize=3)\n",
    "plt.plot(data, p, color='green', linestyle='-', linewidth=1, markersize=3,label='ridge regression')\n",
    "#plt.legend()\n",
    "\n",
    "print(clf.score(kx, target))"
   ]
  },
  {
   "cell_type": "code",
   "execution_count": null,
   "metadata": {},
   "outputs": [],
   "source": [
    "#Lasso\n",
    "\n",
    "from sklearn.metrics.pairwise import rbf_kernel\n",
    "from sklearn.linear_model import Lasso\n",
    "\n",
    "kx = rbf_kernel(X=data, Y=data, gamma=0.1)\n",
    "#KX = rbf_kernel(X, x)\n",
    "\n",
    "#lasso_clf = LinearRegression()\n",
    "lasso_clf = Lasso(alpha=0.0001, max_iter=1000)\n",
    "lasso_clf.fit(kx, target)\n",
    "\n",
    "p = lasso_clf.predict(kx)\n",
    "\n",
    "plt.scatter(data, target)\n",
    "\n",
    "#plt.plot(data, p, color='green', marker='o', linestyle='-', linewidth=0.1, markersize=3)\n",
    "plt.plot(data, p, color='green', linestyle='-', linewidth=3, markersize=3)\n",
    "\n",
    "print(lasso_clf.score(kx, target))"
   ]
  },
  {
   "cell_type": "code",
   "execution_count": null,
   "metadata": {},
   "outputs": [],
   "source": [
    "print(lasso_clf.coef_)"
   ]
  },
  {
   "cell_type": "code",
   "execution_count": null,
   "metadata": {},
   "outputs": [],
   "source": [
    "from sklearn import cross_validation, preprocessing, linear_model, svm\n",
    "\n",
    "# SVR-rbf\n",
    "clf_svr = svm.SVR(kernel='rbf', C=1e3, gamma=0.1, epsilon=0.1)\n",
    "clf_svr.fit(data, target)\n",
    "y_rbf = clf_svr.fit(data, target).predict(data)\n",
    " \n",
    "# plot\n",
    "\n",
    "plt.scatter(data, target, color='darkorange', label='data')\n",
    "plt.plot(data, y_rbf, color='red', label='Support Vector Regression (RBF)')\n",
    "plt.legend()\n",
    "plt.show()"
   ]
  },
  {
   "cell_type": "code",
   "execution_count": null,
   "metadata": {},
   "outputs": [],
   "source": [
    "from sklearn.preprocessing import PolynomialFeatures\n",
    "from sklearn.pipeline import Pipeline"
   ]
  },
  {
   "cell_type": "code",
   "execution_count": null,
   "metadata": {},
   "outputs": [],
   "source": [
    "PolynomialFeatures(degree=1)\n",
    "\n",
    "deg = [1,2,3,4,5,6,7,8,9,10]\n",
    "for d in deg:\n",
    "    regr = Pipeline([\n",
    "        ('poly', PolynomialFeatures(degree=d)),\n",
    "        ('linear', LinearRegression())\n",
    "    ])\n",
    "    regr.fit(data, target)\n",
    "\n",
    "    # make predictions\n",
    "    p = regr.predict(data)\n",
    "\n",
    "    # plot regression result\n",
    "    plt.scatter(data, target, label='data')\n",
    "    plt.plot(data, p, label='polynomial of degree %d' % (d))\n",
    "   \n"
   ]
  },
  {
   "cell_type": "code",
   "execution_count": null,
   "metadata": {},
   "outputs": [],
   "source": [
    "import numpy as np\n",
    "import matplotlib.pyplot as plt\n",
    "x = np.arange(-np.pi,np.pi,np.pi/50)\n",
    "plt.axvspan(-0.5*np.pi,0.5*np.pi,color=\"red\")\n",
    "plt.plot(x,np.sin(x))\n",
    "plt.show()"
   ]
  },
  {
   "cell_type": "code",
   "execution_count": null,
   "metadata": {},
   "outputs": [],
   "source": []
  },
  {
   "cell_type": "code",
   "execution_count": null,
   "metadata": {},
   "outputs": [],
   "source": []
  },
  {
   "cell_type": "code",
   "execution_count": null,
   "metadata": {},
   "outputs": [],
   "source": []
  },
  {
   "cell_type": "code",
   "execution_count": null,
   "metadata": {},
   "outputs": [],
   "source": []
  },
  {
   "cell_type": "code",
   "execution_count": null,
   "metadata": {},
   "outputs": [],
   "source": []
  },
  {
   "cell_type": "code",
   "execution_count": null,
   "metadata": {},
   "outputs": [],
   "source": [
    "def relu_reg_model():\n",
    "    n_hidden=500\n",
    "    model = Sequential()\n",
    "    model.add(Dense(n_hidden, input_dim=1, activation='relu'))\n",
    "    model.add(Dense(n_hidden, activation='relu'))\n",
    "    model.add(Dense(n_hidden, activation='relu'))\n",
    "    model.add(Dense(n_hidden, activation='relu'))\n",
    "    model.add(Dense(n_hidden, activation='relu'))\n",
    "    model.add(Dense(n_hidden, activation='relu'))\n",
    "    model.add(Dense(n_hidden, activation='relu'))\n",
    "    model.add(Dense(n_hidden, activation='relu'))\n",
    "    model.add(Dense(n_hidden, activation='relu'))\n",
    "    model.add(Dense(1))\n",
    "\n",
    "    # compile model\n",
    "    model.compile(loss='mean_squared_error', optimizer='adam')\n",
    "    return model"
   ]
  },
  {
   "cell_type": "code",
   "execution_count": null,
   "metadata": {},
   "outputs": [],
   "source": []
  },
  {
   "cell_type": "code",
   "execution_count": null,
   "metadata": {},
   "outputs": [],
   "source": []
  },
  {
   "cell_type": "code",
   "execution_count": null,
   "metadata": {},
   "outputs": [],
   "source": []
  },
  {
   "cell_type": "code",
   "execution_count": null,
   "metadata": {},
   "outputs": [],
   "source": []
  },
  {
   "cell_type": "code",
   "execution_count": null,
   "metadata": {},
   "outputs": [],
   "source": []
  },
  {
   "cell_type": "code",
   "execution_count": null,
   "metadata": {},
   "outputs": [],
   "source": []
  },
  {
   "cell_type": "code",
   "execution_count": null,
   "metadata": {},
   "outputs": [],
   "source": []
  },
  {
   "cell_type": "code",
   "execution_count": null,
   "metadata": {},
   "outputs": [],
   "source": []
  },
  {
   "cell_type": "code",
   "execution_count": null,
   "metadata": {},
   "outputs": [],
   "source": []
  },
  {
   "cell_type": "code",
   "execution_count": null,
   "metadata": {},
   "outputs": [],
   "source": [
    "from sklearn.model_selection import train_test_split\n",
    "x_train, x_test, y_train, y_test = train_test_split(data, target, test_size=0.1, random_state=0)"
   ]
  },
  {
   "cell_type": "code",
   "execution_count": null,
   "metadata": {},
   "outputs": [],
   "source": [
    "from keras.callbacks import EarlyStopping, TensorBoard, ModelCheckpoint\n",
    "\n",
    "cb_cp = ModelCheckpoint('./out/checkpoints/weights.{epoch:02d}-{val_loss:.2f}.hdf5', verbose=1, save_weights_only=True)\n",
    "cb_tf  = TensorBoard(log_dir='./out/tensorBoard', histogram_freq=0)"
   ]
  },
  {
   "cell_type": "code",
   "execution_count": null,
   "metadata": {},
   "outputs": [],
   "source": [
    "from keras.models import Sequential\n",
    "from keras.layers import Input, Dense, Dropout, BatchNormalization\n",
    "from keras.wrappers.scikit_learn import KerasRegressor\n",
    "\n",
    "# use data split and fit to run the model\n",
    "estimator = KerasRegressor(build_fn=relu_reg_model, epochs=100, batch_size=5, verbose=1)\n",
    "\n",
    "history = estimator.fit(x_train, y_train, callbacks=[cb_cp, cb_tf], validation_data=(x_test, y_test))"
   ]
  },
  {
   "cell_type": "code",
   "execution_count": null,
   "metadata": {},
   "outputs": [],
   "source": [
    "y_pred = estimator.predict(x_train)"
   ]
  },
  {
   "cell_type": "code",
   "execution_count": null,
   "metadata": {},
   "outputs": [],
   "source": [
    "plt.title('NonLiner Regressions via DL by ReLU')\n",
    "plt.plot(data, target, 'o')\n",
    "plt.plot(data, true_func(data), '.')\n",
    "plt.plot(x_train, y_pred, \"o\", label='predicted: deep learning')\n",
    "#plt.legend(loc=2)"
   ]
  },
  {
   "cell_type": "code",
   "execution_count": null,
   "metadata": {},
   "outputs": [],
   "source": []
  },
  {
   "cell_type": "code",
   "execution_count": null,
   "metadata": {},
   "outputs": [],
   "source": []
  },
  {
   "cell_type": "code",
   "execution_count": null,
   "metadata": {},
   "outputs": [],
   "source": []
  }
 ],
 "metadata": {
  "kernelspec": {
   "display_name": "Python 3",
   "language": "python",
   "name": "python3"
  },
  "language_info": {
   "codemirror_mode": {
    "name": "ipython",
    "version": 3
   },
   "file_extension": ".py",
   "mimetype": "text/x-python",
   "name": "python",
   "nbconvert_exporter": "python",
   "pygments_lexer": "ipython3",
   "version": "3.6.4"
  }
 },
 "nbformat": 4,
 "nbformat_minor": 2
}
